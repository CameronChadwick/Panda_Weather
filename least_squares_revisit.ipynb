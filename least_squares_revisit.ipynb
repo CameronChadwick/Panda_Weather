{
  "nbformat": 4,
  "nbformat_minor": 0,
  "metadata": {
    "colab": {
      "provenance": [],
      "authorship_tag": "ABX9TyPUJjgJ07rzfLF7EhMsAD1Q",
      "include_colab_link": true
    },
    "kernelspec": {
      "name": "python3",
      "display_name": "Python 3"
    },
    "language_info": {
      "name": "python"
    }
  },
  "cells": [
    {
      "cell_type": "markdown",
      "metadata": {
        "id": "view-in-github",
        "colab_type": "text"
      },
      "source": [
        "<a href=\"https://colab.research.google.com/github/CameronChadwick/data_analysis/blob/main/least_squares_revisit.ipynb\" target=\"_parent\"><img src=\"https://colab.research.google.com/assets/colab-badge.svg\" alt=\"Open In Colab\"/></a>"
      ]
    },
    {
      "cell_type": "code",
      "source": [
        "import numpy as np\n",
        "from matplotlib import pyplot as plt"
      ],
      "metadata": {
        "id": "PjGry2Jka4Q2"
      },
      "execution_count": 16,
      "outputs": []
    },
    {
      "cell_type": "markdown",
      "source": [
        "# Linear Regression"
      ],
      "metadata": {
        "id": "qRiuFY8kz4Yt"
      }
    },
    {
      "cell_type": "code",
      "execution_count": 17,
      "metadata": {
        "colab": {
          "base_uri": "https://localhost:8080/"
        },
        "id": "UvxfD9fzyNkV",
        "outputId": "39683a6c-199d-4a30-a2dc-cd903478fe11"
      },
      "outputs": [
        {
          "output_type": "execute_result",
          "data": {
            "text/plain": [
              "array([-0.68074324, 12.25675676])"
            ]
          },
          "metadata": {},
          "execution_count": 17
        }
      ],
      "source": [
        "x = [1, 2, 4, 6, 5, 6, 9, 8, 11, 12]\n",
        "y = [14, 10, 12, 9, 8, 6, 4, 3, 3, 10]\n",
        "\n",
        "def linear_regression(x, y):\n",
        "  x_sum = 0\n",
        "  x_squ = 0\n",
        "  y_sum = 0 \n",
        "  xy_sum = 0\n",
        "  points = len(x)\n",
        "\n",
        "  for n in range(len(x)):\n",
        "    xy_sum += x[n] * y[n]\n",
        "    x_sum += x[n]\n",
        "    x_squ += x[n] * x[n]\n",
        "    y_sum += y[n]\n",
        "\n",
        "  matrix1 = [[x_squ, x_sum], [x_sum, points]]\n",
        "  matrix2 = [xy_sum, y_sum]\n",
        "  invmat1 = np.linalg.inv(matrix1)\n",
        "  result = np.dot(matrix2, invmat1)\n",
        "  return result\n",
        "\n",
        "linear_regression(x, y)"
      ]
    },
    {
      "cell_type": "markdown",
      "source": [
        "# Residuals"
      ],
      "metadata": {
        "id": "k6-Hzdc403LR"
      }
    },
    {
      "cell_type": "code",
      "source": [
        "def resids(x_list, y_list, slope, yint):\n",
        "  resid_list = []\n",
        "  y_line = []\n",
        "  y = 0\n",
        "  \n",
        "  for index in range(len(x_list)):\n",
        "    y = y_list[index] - (slope * x_list[index] + yint)\n",
        "    resid_list.append(y)\n",
        "  return resid_list\n",
        "\n",
        "def mean(data):\n",
        "  added = 0\n",
        "  for value in data:\n",
        "    added += value\n",
        "  divide = len(data)\n",
        "  mean = added / divide\n",
        "  return mean\n",
        "\n",
        "def variance(data):\n",
        "  sub = mean(data)\n",
        "  list2 = []\n",
        "  for value in data:\n",
        "    subtract = value - sub \n",
        "    values = subtract ** 2\n",
        "    list2.append(values)\n",
        "  list_sum = sum(list2)\n",
        "  variance = list_sum / len(data)\n",
        "  return variance\n",
        "  \n",
        "\n",
        "def stand_dev(data):\n",
        "  standard = variance(data) ** 0.5\n",
        "  return standard\n",
        "\n",
        "residuals = resids(x, y, linear_regression(x, y)[0], linear_regression(x, y)[1])\n",
        "resid_mean = mean(residuals)\n",
        "resid_dev = stand_dev(residuals)\n",
        "print(residuals)\n",
        "print(resid_mean)\n",
        "print(resid_dev)"
      ],
      "metadata": {
        "colab": {
          "base_uri": "https://localhost:8080/"
        },
        "id": "otQbSDZr02aD",
        "outputId": "40f3573c-50d3-4ccf-c378-b27c48e238eb"
      },
      "execution_count": 18,
      "outputs": [
        {
          "output_type": "stream",
          "name": "stdout",
          "text": [
            "[2.423986486486486, -0.8952702702702702, 2.4662162162162176, 0.8277027027027053, -0.8530405405405386, -2.1722972972972947, -2.130067567567563, -3.810810810810807, -1.7685810810810754, 5.9121621621621685]\n",
            "2.842170943040401e-15\n",
            "2.7573917856299386\n"
          ]
        }
      ]
    },
    {
      "cell_type": "code",
      "source": [
        "def redlines(mean, stddev, n, main_yint):\n",
        "  top_line = mean + (n * stddev)\n",
        "  bottom_line = mean - (n * stddev)\n",
        "  top_int = main_yint + top_line\n",
        "  bottom_int = main_yint + bottom_line\n",
        "  return bottom_int, top_int\n",
        "\n",
        "redlines(resid_mean, resid_dev, 2, linear_regression(x, y)[1])"
      ],
      "metadata": {
        "colab": {
          "base_uri": "https://localhost:8080/"
        },
        "id": "gsLiayPWbbnI",
        "outputId": "8a544bff-7fd7-4f92-96e4-77915ad606c4"
      },
      "execution_count": 19,
      "outputs": [
        {
          "output_type": "execute_result",
          "data": {
            "text/plain": [
              "(6.741973185496883, 17.771540328016638)"
            ]
          },
          "metadata": {},
          "execution_count": 19
        }
      ]
    },
    {
      "cell_type": "markdown",
      "source": [
        "# Plot"
      ],
      "metadata": {
        "id": "CIpD4JdboAoS"
      }
    },
    {
      "cell_type": "code",
      "source": [
        "slope = linear_regression(x, y)[0]\n",
        "y_int = linear_regression(x, y)[1]\n",
        "upper_y_int = redlines(resid_mean, resid_dev, 2, linear_regression(x, y)[1])[1]\n",
        "lower_y_int = redlines(resid_mean, resid_dev, 2, linear_regression(x, y)[1])[0]\n",
        "\n",
        "def lines_plot(x, y, slope, y_int, u_y_int, l_y_int):\n",
        "  y_coords = [x_coord * slope + y_int for x_coord in x]\n",
        "  upper_y_coords = [x_coord * slope + u_y_int for x_coord in x]\n",
        "  lower_y_coords = [x_coord * slope + l_y_int for x_coord in x]\n",
        "  plt.scatter(x, y, c='green')\n",
        "  plt.plot(x, y_coords)\n",
        "  plt.plot(x, upper_y_coords, c='red')\n",
        "  plt.plot(x, lower_y_coords, c='red')\n",
        "\n",
        "lines_plot(x, y, slope, y_int, upper_y_int, lower_y_int)"
      ],
      "metadata": {
        "colab": {
          "base_uri": "https://localhost:8080/",
          "height": 265
        },
        "id": "XOTs24SCoALj",
        "outputId": "bfb1ebdc-1a3d-4adc-9d74-c84061e4c6c3"
      },
      "execution_count": 20,
      "outputs": [
        {
          "output_type": "display_data",
          "data": {
            "text/plain": [
              "<Figure size 432x288 with 1 Axes>"
            ],
            "image/png": "[encoded data removed]"
          },
          "metadata": {
            "needs_background": "light"
          }
        }
      ]
    },
    {
      "cell_type": "markdown",
      "source": [
        "# Removing Outlier"
      ],
      "metadata": {
        "id": "jLWj5Nzjs85B"
      }
    },
    {
      "cell_type": "code",
      "source": [
        "def remove(x_list, y_list, upper_y):\n",
        "  for index in range(len(y_list)):\n",
        "    if y_list[index] > (slope * x_list[index] + upper_y):\n",
        "      y_list.pop(index)\n",
        "      x_list.pop(index)\n",
        "  return x_list, y_list\n",
        "\n",
        "remove(x, y, upper_y_int)"
      ],
      "metadata": {
        "colab": {
          "base_uri": "https://localhost:8080/"
        },
        "id": "npIxHNYcs9kA",
        "outputId": "0dc8f88a-2a57-4813-80a8-2b012b1f6a11"
      },
      "execution_count": 21,
      "outputs": [
        {
          "output_type": "execute_result",
          "data": {
            "text/plain": [
              "([1, 2, 4, 6, 5, 6, 9, 8, 11], [14, 10, 12, 9, 8, 6, 4, 3, 3])"
            ]
          },
          "metadata": {},
          "execution_count": 21
        }
      ]
    },
    {
      "cell_type": "markdown",
      "source": [
        "# Run The New List"
      ],
      "metadata": {
        "id": "S2FZH_bOLmK1"
      }
    },
    {
      "cell_type": "code",
      "source": [
        "slope_n = linear_regression(x, y)[0]\n",
        "y_int_n = linear_regression(x, y)[1]\n",
        "upper_y_int_n = redlines(resid_mean, resid_dev, 2, linear_regression(x, y)[1])[1]\n",
        "lower_y_int_n = redlines(resid_mean, resid_dev, 2, linear_regression(x, y)[1])[0]\n",
        "\n",
        "lines_plot(x, y, slope_n, y_int_n, upper_y_int_n, lower_y_int_n)"
      ],
      "metadata": {
        "colab": {
          "base_uri": "https://localhost:8080/",
          "height": 265
        },
        "id": "TsUmxnC8Llql",
        "outputId": "60804158-fd5e-4af1-bf8c-30944297ec21"
      },
      "execution_count": 22,
      "outputs": [
        {
          "output_type": "display_data",
          "data": {
            "text/plain": [
              "<Figure size 432x288 with 1 Axes>"
            ],
            "image/png": "[encoded data removed]"
          },
          "metadata": {
            "needs_background": "light"
          }
        }
      ]
    }
  ]
}