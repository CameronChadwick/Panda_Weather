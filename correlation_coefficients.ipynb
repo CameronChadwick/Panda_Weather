{
  "nbformat": 4,
  "nbformat_minor": 0,
  "metadata": {
    "colab": {
      "provenance": [],
      "authorship_tag": "ABX9TyN/RE9v4/ERSv9St/YG5p4U",
      "include_colab_link": true
    },
    "kernelspec": {
      "name": "python3",
      "display_name": "Python 3"
    },
    "language_info": {
      "name": "python"
    }
  },
  "cells": [
    {
      "cell_type": "markdown",
      "metadata": {
        "id": "view-in-github",
        "colab_type": "text"
      },
      "source": [
        "<a href=\"https://colab.research.google.com/github/CameronChadwick/data_analysis/blob/main/correlation_coefficients.ipynb\" target=\"_parent\"><img src=\"https://colab.research.google.com/assets/colab-badge.svg\" alt=\"Open In Colab\"/></a>"
      ]
    },
    {
      "cell_type": "code",
      "source": [
        "import numpy as np\n",
        "from matplotlib import pyplot as plt"
      ],
      "metadata": {
        "id": "PjGry2Jka4Q2"
      },
      "execution_count": 2,
      "outputs": []
    },
    {
      "cell_type": "markdown",
      "source": [
        "# Correlation Coefficient"
      ],
      "metadata": {
        "id": "7EbmEiCORVJq"
      }
    },
    {
      "cell_type": "code",
      "execution_count": 3,
      "metadata": {
        "colab": {
          "base_uri": "https://localhost:8080/"
        },
        "id": "RGiQsyR6DlRC",
        "outputId": "3ba38dba-e496-4424-af7c-7e7ff4504398"
      },
      "outputs": [
        {
          "output_type": "execute_result",
          "data": {
            "text/plain": [
              "0.5298089018901744"
            ]
          },
          "metadata": {},
          "execution_count": 3
        }
      ],
      "source": [
        "x_values = (43, 21, 25, 42, 57, 59)\n",
        "y_values = (99, 65, 79, 75, 87, 81)\n",
        "\n",
        "def correlation(x, y):\n",
        "  x_sum = 0\n",
        "  x_squ = 0\n",
        "  y_sum = 0\n",
        "  y_squ = 0\n",
        "  xy_sum = 0\n",
        "\n",
        "  for n in range(len(x)):\n",
        "    xy_sum += x[n] * y[n]\n",
        "    x_sum += x[n]\n",
        "    x_squ += x[n] * x[n]\n",
        "    y_sum += y[n]\n",
        "    y_squ += y[n] * y[n]\n",
        "\n",
        "  x_y = x_sum * y_sum\n",
        "  numerator = len(x) * xy_sum - x_y\n",
        "\n",
        "  subtract_x = (len(x) * x_squ - x_sum**2)**0.5\n",
        "  subtract_y = (len(y) * y_squ - y_sum**2)**0.5\n",
        "  denomonator = subtract_x * subtract_y\n",
        "  corr_coeff = numerator / denomonator\n",
        "  return corr_coeff\n",
        "\n",
        "correlation(x_values, y_values)"
      ]
    },
    {
      "cell_type": "markdown",
      "source": [
        "# Scatterplot"
      ],
      "metadata": {
        "id": "s4fkJvB2RQ-8"
      }
    },
    {
      "cell_type": "code",
      "source": [
        "def scatter(x_data, y_data, title, x_label, y_label):\n",
        "  plt.style.use('seaborn')\n",
        "\n",
        "  x = x_data\n",
        "  y = y_data\n",
        "\n",
        "  plt.scatter(x, y, s=100, edgecolor='black', linewidth=1, alpha=1)\n",
        "\n",
        "  plt.title(title)\n",
        "  plt.xlabel(x_label)\n",
        "  plt.ylabel(y_label)\n",
        "\n",
        "  plt.tight_layout()\n",
        "\n",
        "  plt.show()\n",
        "\n",
        "scatter(x_values, y_values, 'Correlation Coefficent Data', 'X Data', 'Y Data')"
      ],
      "metadata": {
        "colab": {
          "base_uri": "https://localhost:8080/",
          "height": 405
        },
        "id": "GeFTwZJXRQQz",
        "outputId": "a326f5a5-dd23-4e66-cb99-14991cab4692"
      },
      "execution_count": 4,
      "outputs": [
        {
          "output_type": "display_data",
          "data": {
            "text/plain": [
              "<Figure size 576x396 with 1 Axes>"
            ],
            "image/png": "[encoded data removed]"
          },
          "metadata": {}
        }
      ]
    },
    {
      "cell_type": "markdown",
      "source": [
        "# Linear Regression"
      ],
      "metadata": {
        "id": "LxS-CF6mbN3W"
      }
    },
    {
      "cell_type": "code",
      "source": [
        "\n",
        "x_list = (2, 3, 5, 7, 9)\n",
        "y_list = (4, 5, 7, 10, 15)\n",
        "\n",
        "def linear_regression(x, y):\n",
        "  x_sum = 0\n",
        "  x_squ = 0\n",
        "  y_sum = 0 \n",
        "  xy_sum = 0\n",
        "  points = len(x)\n",
        "\n",
        "  for n in range(len(x)):\n",
        "    xy_sum += x[n] * y[n]\n",
        "    x_sum += x[n]\n",
        "    x_squ += x[n] * x[n]\n",
        "    y_sum += y[n]\n",
        "\n",
        "  matrix1 = [[x_squ, x_sum], [x_sum, points]]\n",
        "  matrix2 = [xy_sum, y_sum]\n",
        "  invmat1 = np.linalg.inv(matrix1)\n",
        "  result = np.dot(matrix2, invmat1)\n",
        "  return result\n",
        "\n",
        "linear_regression(x_list, y_list)"
      ],
      "metadata": {
        "id": "hGnrSalHau9o",
        "colab": {
          "base_uri": "https://localhost:8080/"
        },
        "outputId": "f4bf80a9-a513-4eb3-fdbf-e0e95a518cd6"
      },
      "execution_count": 7,
      "outputs": [
        {
          "output_type": "execute_result",
          "data": {
            "text/plain": [
              "array([1.51829268, 0.30487805])"
            ]
          },
          "metadata": {},
          "execution_count": 7
        }
      ]
    }
  ]
}