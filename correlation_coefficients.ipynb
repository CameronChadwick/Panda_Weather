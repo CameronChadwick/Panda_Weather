{
  "nbformat": 4,
  "nbformat_minor": 0,
  "metadata": {
    "colab": {
      "provenance": [],
      "authorship_tag": "ABX9TyOyuUZiEfT10AOnM8tFQpVm",
      "include_colab_link": true
    },
    "kernelspec": {
      "name": "python3",
      "display_name": "Python 3"
    },
    "language_info": {
      "name": "python"
    }
  },
  "cells": [
    {
      "cell_type": "markdown",
      "metadata": {
        "id": "view-in-github",
        "colab_type": "text"
      },
      "source": [
        "<a href=\"https://colab.research.google.com/github/CameronChadwick/data_analysis/blob/main/correlation_coefficients.ipynb\" target=\"_parent\"><img src=\"https://colab.research.google.com/assets/colab-badge.svg\" alt=\"Open In Colab\"/></a>"
      ]
    },
    {
      "cell_type": "code",
      "execution_count": 2,
      "metadata": {
        "colab": {
          "base_uri": "https://localhost:8080/"
        },
        "id": "RGiQsyR6DlRC",
        "outputId": "c24699aa-c8e3-43e0-f626-5cb8f19c07df"
      },
      "outputs": [
        {
          "output_type": "execute_result",
          "data": {
            "text/plain": [
              "0.5298089018901744"
            ]
          },
          "metadata": {},
          "execution_count": 2
        }
      ],
      "source": [
        "x_values = (43, 21, 25, 42, 57, 59)\n",
        "y_values = (99, 65, 79, 75, 87, 81)\n",
        "\n",
        "def correlation(x, y):\n",
        "  x_sum = 0\n",
        "  x_squ = 0\n",
        "  y_sum = 0\n",
        "  y_squ = 0\n",
        "  xy_sum = 0\n",
        "\n",
        "  for n in range(len(x)):\n",
        "    xy_sum += x[n] * y[n]\n",
        "    x_sum += x[n]\n",
        "    x_squ += x[n] * x[n]\n",
        "    y_sum += y[n]\n",
        "    y_squ += y[n] * y[n]\n",
        "  \n",
        "  x_y = x_sum * y_sum\n",
        "  numerator = len(x) * xy_sum - x_y\n",
        "\n",
        "  subtract_x = (len(x) * x_squ - x_sum**2)**0.5\n",
        "  subtract_y = (len(y) * y_squ - y_sum**2)**0.5\n",
        "  denomonator = subtract_x * subtract_y\n",
        "  corr_coeff = numerator / denomonator\n",
        "  return corr_coeff\n",
        "  \n",
        "correlation(x_values, y_values)"
      ]
    }
  ]
}