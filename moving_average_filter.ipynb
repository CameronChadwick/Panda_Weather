{
  "nbformat": 4,
  "nbformat_minor": 0,
  "metadata": {
    "colab": {
      "provenance": [],
      "authorship_tag": "ABX9TyMWNnnu2uMaEpHzMy3hCr+3",
      "include_colab_link": true
    },
    "kernelspec": {
      "name": "python3",
      "display_name": "Python 3"
    },
    "language_info": {
      "name": "python"
    }
  },
  "cells": [
    {
      "cell_type": "markdown",
      "metadata": {
        "id": "view-in-github",
        "colab_type": "text"
      },
      "source": [
        "<a href=\"https://colab.research.google.com/github/CameronChadwick/data_analysis/blob/main/moving_average_filter.ipynb\" target=\"_parent\"><img src=\"https://colab.research.google.com/assets/colab-badge.svg\" alt=\"Open In Colab\"/></a>"
      ]
    },
    {
      "cell_type": "markdown",
      "source": [
        "# Imports"
      ],
      "metadata": {
        "id": "Es531Q4H2enW"
      }
    },
    {
      "cell_type": "code",
      "execution_count": 52,
      "metadata": {
        "id": "jAhhkaxX2DGx"
      },
      "outputs": [],
      "source": [
        "import numpy as np"
      ]
    },
    {
      "cell_type": "markdown",
      "source": [
        "# Weighted Average"
      ],
      "metadata": {
        "id": "Z08F-JJ93Db1"
      }
    },
    {
      "cell_type": "code",
      "source": [
        "def weighted(x_list, w, fil_len):\n",
        "  x = []\n",
        "  wxl = []\n",
        "  for index in range(fil_len):\n",
        "    x.append(x_list[index])\n",
        "  \n",
        "  for n in range(len(x)):\n",
        "    wx = (w[n] * x[n])\n",
        "    wxl.append(wx)\n",
        "  \n",
        "  wxsum = sum(wxl)\n",
        "  wsum = sum(w)\n",
        "  weight_avg_val1 = wxsum/wsum\n",
        "  return weight_avg_val1\n",
        "\n",
        "weights = [1, 2, 3, 2, 1]\n",
        "x = [4, 7, 8, 2, 10, 23, 9, 5]\n",
        "weighted(x, weights, 5)"
      ],
      "metadata": {
        "colab": {
          "base_uri": "https://localhost:8080/"
        },
        "id": "hhC0Gnmx3DCH",
        "outputId": "fbb3171c-97b8-4579-d629-b53ada236368"
      },
      "execution_count": 53,
      "outputs": [
        {
          "output_type": "execute_result",
          "data": {
            "text/plain": [
              "6.222222222222222"
            ]
          },
          "metadata": {},
          "execution_count": 53
        }
      ]
    },
    {
      "cell_type": "markdown",
      "source": [
        "# Fading Memory"
      ],
      "metadata": {
        "id": "R5DMFrywAxim"
      }
    },
    {
      "cell_type": "code",
      "source": [],
      "metadata": {
        "id": "O2qVK338Azbt"
      },
      "execution_count": 53,
      "outputs": []
    }
  ]
}