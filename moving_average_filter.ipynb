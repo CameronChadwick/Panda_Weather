{
  "nbformat": 4,
  "nbformat_minor": 0,
  "metadata": {
    "colab": {
      "provenance": [],
      "authorship_tag": "ABX9TyNRhMSisvEAnSKQYGVJfK/J",
      "include_colab_link": true
    },
    "kernelspec": {
      "name": "python3",
      "display_name": "Python 3"
    },
    "language_info": {
      "name": "python"
    }
  },
  "cells": [
    {
      "cell_type": "markdown",
      "metadata": {
        "id": "view-in-github",
        "colab_type": "text"
      },
      "source": [
        "<a href=\"https://colab.research.google.com/github/CameronChadwick/data_analysis/blob/main/moving_average_filter.ipynb\" target=\"_parent\"><img src=\"https://colab.research.google.com/assets/colab-badge.svg\" alt=\"Open In Colab\"/></a>"
      ]
    },
    {
      "cell_type": "markdown",
      "source": [
        "# Imports"
      ],
      "metadata": {
        "id": "Es531Q4H2enW"
      }
    },
    {
      "cell_type": "code",
      "execution_count": 58,
      "metadata": {
        "id": "jAhhkaxX2DGx"
      },
      "outputs": [],
      "source": [
        "import numpy as np"
      ]
    },
    {
      "cell_type": "markdown",
      "source": [
        "# Weighted Average"
      ],
      "metadata": {
        "id": "Z08F-JJ93Db1"
      }
    },
    {
      "cell_type": "code",
      "source": [
        "def weighted(x_list, w, fil_len):\n",
        "  output = []\n",
        "  ns = fil_len - 1\n",
        "  for index in range(len(x_list) - ns):\n",
        "    wxl = 0\n",
        "    for n in range(fil_len):\n",
        "      wx = (w[n] * x_list[n + index])\n",
        "      wxl += wx\n",
        "\n",
        "    wsum = sum(w)\n",
        "    weight_avg_val = wxl/wsum\n",
        "    output.append(weight_avg_val)\n",
        "  return output\n",
        "\n",
        "\n",
        "x1 = [1, 4, 5, 6, -2, 9, 3, 4, 0, 2]\n",
        "weights1 = [1, 1, 1, 1]\n",
        "x2 = [4, 7, 8, 2, 10, 23, 9, 5]\n",
        "weights2 = [1, 2, 3, 2 ,1]\n",
        "print(weighted(x1, weights1, 4))\n",
        "print(weighted(x2, weights2, 5))"
      ],
      "metadata": {
        "colab": {
          "base_uri": "https://localhost:8080/"
        },
        "id": "hhC0Gnmx3DCH",
        "outputId": "67896043-e03b-41e5-b0cf-cb78772c1b9a"
      },
      "execution_count": 59,
      "outputs": [
        {
          "output_type": "stream",
          "name": "stdout",
          "text": [
            "[4.0, 3.25, 4.5, 4.0, 3.5, 4.0, 2.25]\n",
            "[6.222222222222222, 8.0, 10.777777777777779, 12.666666666666666]\n"
          ]
        }
      ]
    },
    {
      "cell_type": "markdown",
      "source": [
        "# Fading Memory"
      ],
      "metadata": {
        "id": "R5DMFrywAxim"
      }
    },
    {
      "cell_type": "code",
      "source": [
        "def fading(x_list, w):\n",
        "  pass"
      ],
      "metadata": {
        "id": "O2qVK338Azbt"
      },
      "execution_count": 60,
      "outputs": []
    }
  ]
}