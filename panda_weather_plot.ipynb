{
  "nbformat": 4,
  "nbformat_minor": 0,
  "metadata": {
    "colab": {
      "provenance": [],
      "collapsed_sections": [],
      "include_colab_link": true
    },
    "kernelspec": {
      "name": "python3",
      "display_name": "Python 3"
    }
  },
  "cells": [
    {
      "cell_type": "markdown",
      "metadata": {
        "id": "view-in-github",
        "colab_type": "text"
      },
      "source": [
        "<a href=\"https://colab.research.google.com/github/CameronChadwick/data_analysis/blob/main/panda_weather_plot.ipynb\" target=\"_parent\"><img src=\"https://colab.research.google.com/assets/colab-badge.svg\" alt=\"Open In Colab\"/></a>"
      ]
    },
    {
      "cell_type": "markdown",
      "source": [
        "# Mount the drive\n",
        "\n",
        "The path to drive is '/content/drive'"
      ],
      "metadata": {
        "id": "SpoKEUEfAJvR"
      }
    },
    {
      "cell_type": "code",
      "metadata": {
        "id": "5ydUeyqjDVan",
        "colab": {
          "base_uri": "https://localhost:8080/"
        },
        "outputId": "62086e33-cf53-457e-c5dc-a1f6af0c0bf7"
      },
      "source": [
        "from google.colab import drive\n",
        "drive.mount('/content/drive')"
      ],
      "execution_count": null,
      "outputs": [
        {
          "output_type": "stream",
          "name": "stdout",
          "text": [
            "Drive already mounted at /content/drive; to attempt to forcibly remount, call drive.mount(\"/content/drive\", force_remount=True).\n"
          ]
        }
      ]
    },
    {
      "cell_type": "markdown",
      "source": [
        "# Display the contents of the folder where the data exists\n",
        "\n",
        "Use `!ls` followed by the path to the folder containg the data file.  Be sure to escape `\\` any special characters, like spaces, that might be part of a folder name. The path to the folder begins with the path used above and ends with `/*.txt`. This will display all (`*`) files, with extension `.txt` that are in the location provided by the path.\n",
        "\n",
        "ex: `!ls content/drive/My\\ Drive/ColabNBs/*.txt`\n",
        "\n",
        "Notice the escaped space between \"My\" and \"Drive\".  Also when doing this the path is NOT in quotes, the language here is not Python but Command Line and as such does not require the path to be a string."
      ],
      "metadata": {
        "id": "d9fG6mX3AQmq"
      }
    },
    {
      "cell_type": "code",
      "metadata": {
        "id": "XlEiovK2DtLm",
        "colab": {
          "base_uri": "https://localhost:8080/"
        },
        "outputId": "a6974eae-4437-448f-dda6-62ab94280148"
      },
      "source": [
        "!ls /content/drive/My\\ Drive/Colab\\ Notebooks/*.txt"
      ],
      "execution_count": null,
      "outputs": [
        {
          "output_type": "stream",
          "name": "stdout",
          "text": [
            "'/content/drive/My Drive/Colab Notebooks/PortlandWeather2013b.txt'\n"
          ]
        }
      ]
    },
    {
      "cell_type": "markdown",
      "source": [
        "# Create a convert_temp function\n",
        "\n",
        "The temperatures, in the data, are in degrees Celsius and mulitplied by 10 so there are no decimals in the data.  Create a function to convert a given temp to a temp in degrees Fahrenheit, rounded to one decimal place.\n",
        "\n"
      ],
      "metadata": {
        "id": "ICPlcarrBVMj"
      }
    },
    {
      "cell_type": "code",
      "metadata": {
        "id": "Qm2pvMtjFCXf"
      },
      "source": [
        "def temp_convert(temp):\n",
        "  convert_decimal = int(temp)/10\n",
        "  convert_temp = round(1.8 * convert_decimal + 32, 1)\n",
        "  return convert_temp\n"
      ],
      "execution_count": null,
      "outputs": []
    },
    {
      "cell_type": "markdown",
      "source": [
        "# Read the data from the file\n",
        "\n",
        "Create the path (should be the one use above, with the specific file that you will read from).\n",
        "\n",
        "Use this path to read the dat from the file.  Decide how you will do this and what format would you like the data returned as.\n",
        "\n",
        "Spend some time looking at the data and deciding how you will \"clean\" the data.  \n",
        "\n",
        "1.   Which columns of data are of interest and wich will be ignored\n",
        "2.   What are the data types currently and what do you want them to be\n",
        "3.   What data do you want and how will you store the data you choose\n",
        "4.   How will you convert the data that needs changing\n",
        "5.   Is there any missing or unusual data? How will you handle this?\n",
        "6.   Other?"
      ],
      "metadata": {
        "id": "-ywZsDIFG6DG"
      }
    },
    {
      "cell_type": "code",
      "source": [
        "path = '/content/drive/My Drive/Colab Notebooks/PortlandWeather2013b.txt'\n",
        "\n",
        "with open(path) as f:\n",
        "  data_list = f.readlines()[2:]"
      ],
      "metadata": {
        "id": "ZUR4ETRcG6tW"
      },
      "execution_count": null,
      "outputs": []
    },
    {
      "cell_type": "markdown",
      "source": [
        "# Create a Python dictionary with the weather data\n",
        "\n",
        "Copy/Paste your code from the previous NB"
      ],
      "metadata": {
        "id": "Ht_wS5lLHQ3g"
      }
    },
    {
      "cell_type": "code",
      "source": [
        "dates = []\n",
        "min = []\n",
        "max = []\n",
        "\n",
        "\n",
        "for line in data_list:\n",
        "    # print(line.split())\n",
        "    date = (line.split()[1])\n",
        "    max_temp = int(line.split()[5])\n",
        "    min_temp = int(line.split()[6])\n",
        "    \n",
        "    con_max = temp_convert(max_temp)\n",
        "    con_min = temp_convert(min_temp)\n",
        "\n",
        "\n",
        "    dates.append(date)\n",
        "    min.append(con_min)\n",
        "    max.append(con_max)\n",
        "\n",
        "weather = {'dates':dates, 'tmin':min, 'tmax':max}"
      ],
      "metadata": {
        "id": "x0aT8LptHRng"
      },
      "execution_count": null,
      "outputs": []
    },
    {
      "cell_type": "markdown",
      "source": [
        "# Pandas"
      ],
      "metadata": {
        "id": "qN-dIlIPvpB_"
      }
    },
    {
      "cell_type": "markdown",
      "source": [
        "## Create a Dataframe using the weather dictionary"
      ],
      "metadata": {
        "id": "8DDcf3h9vwIW"
      }
    },
    {
      "cell_type": "code",
      "source": [
        "# create a pandas df\n",
        "import pandas as pd\n",
        "import numpy as np\n",
        "\n",
        "df = pd.DataFrame(weather)\n",
        "df\n",
        "\n"
      ],
      "metadata": {
        "id": "evrpGqL2v433",
        "colab": {
          "base_uri": "https://localhost:8080/",
          "height": 424
        },
        "outputId": "610b8480-fbe5-4d8b-c87f-c0fc4c233b7a"
      },
      "execution_count": null,
      "outputs": [
        {
          "output_type": "execute_result",
          "data": {
            "text/plain": [
              "        dates  tmin  tmax\n",
              "0    20130101  10.9  32.0\n",
              "1    20130102   3.0  24.1\n",
              "2    20130103  -0.0  23.0\n",
              "3    20130104   9.0  34.0\n",
              "4    20130105  16.0  36.0\n",
              "..        ...   ...   ...\n",
              "360  20131227   7.2  32.0\n",
              "361  20131228  18.1  37.0\n",
              "362  20131229  20.1  35.1\n",
              "363  20131230   8.2  35.1\n",
              "364  20131231   1.2  13.1\n",
              "\n",
              "[365 rows x 3 columns]"
            ],
            "text/html": [
              "\n",
              "  <div id=\"df-d6e65837-5a28-4c92-9c30-2d596bba2eda\">\n",
              "    <div class=\"colab-df-container\">\n",
              "      <div>\n",
              "<style scoped>\n",
              "    .dataframe tbody tr th:only-of-type {\n",
              "        vertical-align: middle;\n",
              "    }\n",
              "\n",
              "    .dataframe tbody tr th {\n",
              "        vertical-align: top;\n",
              "    }\n",
              "\n",
              "    .dataframe thead th {\n",
              "        text-align: right;\n",
              "    }\n",
              "</style>\n",
              "<table border=\"1\" class=\"dataframe\">\n",
              "  <thead>\n",
              "    <tr style=\"text-align: right;\">\n",
              "      <th></th>\n",
              "      <th>dates</th>\n",
              "      <th>tmin</th>\n",
              "      <th>tmax</th>\n",
              "    </tr>\n",
              "  </thead>\n",
              "  <tbody>\n",
              "    <tr>\n",
              "      <th>0</th>\n",
              "      <td>20130101</td>\n",
              "      <td>10.9</td>\n",
              "      <td>32.0</td>\n",
              "    </tr>\n",
              "    <tr>\n",
              "      <th>1</th>\n",
              "      <td>20130102</td>\n",
              "      <td>3.0</td>\n",
              "      <td>24.1</td>\n",
              "    </tr>\n",
              "    <tr>\n",
              "      <th>2</th>\n",
              "      <td>20130103</td>\n",
              "      <td>-0.0</td>\n",
              "      <td>23.0</td>\n",
              "    </tr>\n",
              "    <tr>\n",
              "      <th>3</th>\n",
              "      <td>20130104</td>\n",
              "      <td>9.0</td>\n",
              "      <td>34.0</td>\n",
              "    </tr>\n",
              "    <tr>\n",
              "      <th>4</th>\n",
              "      <td>20130105</td>\n",
              "      <td>16.0</td>\n",
              "      <td>36.0</td>\n",
              "    </tr>\n",
              "    <tr>\n",
              "      <th>...</th>\n",
              "      <td>...</td>\n",
              "      <td>...</td>\n",
              "      <td>...</td>\n",
              "    </tr>\n",
              "    <tr>\n",
              "      <th>360</th>\n",
              "      <td>20131227</td>\n",
              "      <td>7.2</td>\n",
              "      <td>32.0</td>\n",
              "    </tr>\n",
              "    <tr>\n",
              "      <th>361</th>\n",
              "      <td>20131228</td>\n",
              "      <td>18.1</td>\n",
              "      <td>37.0</td>\n",
              "    </tr>\n",
              "    <tr>\n",
              "      <th>362</th>\n",
              "      <td>20131229</td>\n",
              "      <td>20.1</td>\n",
              "      <td>35.1</td>\n",
              "    </tr>\n",
              "    <tr>\n",
              "      <th>363</th>\n",
              "      <td>20131230</td>\n",
              "      <td>8.2</td>\n",
              "      <td>35.1</td>\n",
              "    </tr>\n",
              "    <tr>\n",
              "      <th>364</th>\n",
              "      <td>20131231</td>\n",
              "      <td>1.2</td>\n",
              "      <td>13.1</td>\n",
              "    </tr>\n",
              "  </tbody>\n",
              "</table>\n",
              "<p>365 rows × 3 columns</p>\n",
              "</div>\n",
              "      <button class=\"colab-df-convert\" onclick=\"convertToInteractive('df-d6e65837-5a28-4c92-9c30-2d596bba2eda')\"\n",
              "              title=\"Convert this dataframe to an interactive table.\"\n",
              "              style=\"display:none;\">\n",
              "        \n",
              "  <svg xmlns=\"http://www.w3.org/2000/svg\" height=\"24px\"viewBox=\"0 0 24 24\"\n",
              "       width=\"24px\">\n",
              "    <path d=\"M0 0h24v24H0V0z\" fill=\"none\"/>\n",
              "    <path d=\"M18.56 5.44l.94 2.06.94-2.06 2.06-.94-2.06-.94-.94-2.06-.94 2.06-2.06.94zm-11 1L8.5 8.5l.94-2.06 2.06-.94-2.06-.94L8.5 2.5l-.94 2.06-2.06.94zm10 10l.94 2.06.94-2.06 2.06-.94-2.06-.94-.94-2.06-.94 2.06-2.06.94z\"/><path d=\"M17.41 7.96l-1.37-1.37c-.4-.4-.92-.59-1.43-.59-.52 0-1.04.2-1.43.59L10.3 9.45l-7.72 7.72c-.78.78-.78 2.05 0 2.83L4 21.41c.39.39.9.59 1.41.59.51 0 1.02-.2 1.41-.59l7.78-7.78 2.81-2.81c.8-.78.8-2.07 0-2.86zM5.41 20L4 18.59l7.72-7.72 1.47 1.35L5.41 20z\"/>\n",
              "  </svg>\n",
              "      </button>\n",
              "      \n",
              "  <style>\n",
              "    .colab-df-container {\n",
              "      display:flex;\n",
              "      flex-wrap:wrap;\n",
              "      gap: 12px;\n",
              "    }\n",
              "\n",
              "    .colab-df-convert {\n",
              "      background-color: #E8F0FE;\n",
              "      border: none;\n",
              "      border-radius: 50%;\n",
              "      cursor: pointer;\n",
              "      display: none;\n",
              "      fill: #1967D2;\n",
              "      height: 32px;\n",
              "      padding: 0 0 0 0;\n",
              "      width: 32px;\n",
              "    }\n",
              "\n",
              "    .colab-df-convert:hover {\n",
              "      background-color: #E2EBFA;\n",
              "      box-shadow: 0px 1px 2px rgba(60, 64, 67, 0.3), 0px 1px 3px 1px rgba(60, 64, 67, 0.15);\n",
              "      fill: #174EA6;\n",
              "    }\n",
              "\n",
              "    [theme=dark] .colab-df-convert {\n",
              "      background-color: #3B4455;\n",
              "      fill: #D2E3FC;\n",
              "    }\n",
              "\n",
              "    [theme=dark] .colab-df-convert:hover {\n",
              "      background-color: #434B5C;\n",
              "      box-shadow: 0px 1px 3px 1px rgba(0, 0, 0, 0.15);\n",
              "      filter: drop-shadow(0px 1px 2px rgba(0, 0, 0, 0.3));\n",
              "      fill: #FFFFFF;\n",
              "    }\n",
              "  </style>\n",
              "\n",
              "      <script>\n",
              "        const buttonEl =\n",
              "          document.querySelector('#df-d6e65837-5a28-4c92-9c30-2d596bba2eda button.colab-df-convert');\n",
              "        buttonEl.style.display =\n",
              "          google.colab.kernel.accessAllowed ? 'block' : 'none';\n",
              "\n",
              "        async function convertToInteractive(key) {\n",
              "          const element = document.querySelector('#df-d6e65837-5a28-4c92-9c30-2d596bba2eda');\n",
              "          const dataTable =\n",
              "            await google.colab.kernel.invokeFunction('convertToInteractive',\n",
              "                                                     [key], {});\n",
              "          if (!dataTable) return;\n",
              "\n",
              "          const docLinkHtml = 'Like what you see? Visit the ' +\n",
              "            '<a target=\"_blank\" href=https://colab.research.google.com/notebooks/data_table.ipynb>data table notebook</a>'\n",
              "            + ' to learn more about interactive tables.';\n",
              "          element.innerHTML = '';\n",
              "          dataTable['output_type'] = 'display_data';\n",
              "          await google.colab.output.renderOutput(dataTable, element);\n",
              "          const docLink = document.createElement('div');\n",
              "          docLink.innerHTML = docLinkHtml;\n",
              "          element.appendChild(docLink);\n",
              "        }\n",
              "      </script>\n",
              "    </div>\n",
              "  </div>\n",
              "  "
            ]
          },
          "metadata": {},
          "execution_count": 41
        }
      ]
    },
    {
      "cell_type": "markdown",
      "source": [
        "## Display the first 5 and last 5 rows"
      ],
      "metadata": {
        "id": "NEKEp72-v-v1"
      }
    },
    {
      "cell_type": "code",
      "source": [
        "print(df.head())\n",
        "print()\n",
        "print(df.tail(10))\n",
        "print()\n",
        "print(df[6: 21])"
      ],
      "metadata": {
        "id": "c7nSasz_v82g",
        "colab": {
          "base_uri": "https://localhost:8080/"
        },
        "outputId": "7ad4de4c-06fa-4f5a-d132-537e1ffae10d"
      },
      "execution_count": null,
      "outputs": [
        {
          "output_type": "stream",
          "name": "stdout",
          "text": [
            "      dates  tmin  tmax\n",
            "0  20130101  10.9  32.0\n",
            "1  20130102   3.0  24.1\n",
            "2  20130103  -0.0  23.0\n",
            "3  20130104   9.0  34.0\n",
            "4  20130105  16.0  36.0\n",
            "\n",
            "        dates  tmin  tmax\n",
            "355  20131222  27.1  35.1\n",
            "356  20131223  27.1  33.1\n",
            "357  20131224  16.2  33.1\n",
            "358  20131225   5.2  20.1\n",
            "359  20131226  12.2  25.2\n",
            "360  20131227   7.2  32.0\n",
            "361  20131228  18.1  37.0\n",
            "362  20131229  20.1  35.1\n",
            "363  20131230   8.2  35.1\n",
            "364  20131231   1.2  13.1\n",
            "\n",
            "       dates  tmin  tmax\n",
            "6   20130107  15.1  30.9\n",
            "7   20130108  12.9  43.0\n",
            "8   20130109  16.0  39.9\n",
            "9   20130110  27.0  44.1\n",
            "10  20130111  19.0  36.0\n",
            "11  20130112  33.1  42.1\n",
            "12  20130113  36.0  45.0\n",
            "13  20130114  35.1  59.0\n",
            "14  20130115  28.9  37.9\n",
            "15  20130116  28.9  33.1\n",
            "16  20130117  18.0  39.9\n",
            "17  20130118   9.0  19.9\n",
            "18  20130119  16.0  42.1\n",
            "19  20130120  26.1  48.9\n",
            "20  20130121  17.1  27.0\n"
          ]
        }
      ]
    },
    {
      "cell_type": "markdown",
      "source": [
        "## Display a summary of basic information about your df, in two ways"
      ],
      "metadata": {
        "id": "XzNKS7aywMm3"
      }
    },
    {
      "cell_type": "code",
      "source": [
        "# df.info() and df.describe()\n",
        "print(df.info())\n",
        "print()\n",
        "print(df.describe())"
      ],
      "metadata": {
        "id": "XQ_qDdLtwvPN",
        "colab": {
          "base_uri": "https://localhost:8080/"
        },
        "outputId": "6a005a02-4100-461f-99c5-75dde7aec545"
      },
      "execution_count": null,
      "outputs": [
        {
          "output_type": "stream",
          "name": "stdout",
          "text": [
            "<class 'pandas.core.frame.DataFrame'>\n",
            "RangeIndex: 365 entries, 0 to 364\n",
            "Data columns (total 3 columns):\n",
            " #   Column  Non-Null Count  Dtype  \n",
            "---  ------  --------------  -----  \n",
            " 0   dates   365 non-null    object \n",
            " 1   tmin    365 non-null    float64\n",
            " 2   tmax    365 non-null    float64\n",
            "dtypes: float64(2), object(1)\n",
            "memory usage: 8.7+ KB\n",
            "None\n",
            "\n",
            "             tmin        tmax\n",
            "count  365.000000  365.000000\n",
            "mean    38.138904   55.941644\n",
            "std     17.374042   18.882167\n",
            "min     -5.800000    8.100000\n",
            "25%     26.200000   39.900000\n",
            "50%     37.000000   57.000000\n",
            "75%     52.000000   71.100000\n",
            "max     73.000000   95.000000\n"
          ]
        }
      ]
    },
    {
      "cell_type": "markdown",
      "source": [
        "## Display the first 3 rows of the max temps columns using 2 different methods. Assign each to a different variable and use print( ) to display."
      ],
      "metadata": {
        "id": "a4Xo0_PewuEs"
      }
    },
    {
      "cell_type": "code",
      "source": [
        "# df.iloc[[rowstart:rowstop], [col1]] for integer selection; \n",
        "# stop is exclusive due to zero indexing\n",
        "# df.loc[[rowstart:rowstop], [col1]] for label selection; \n",
        "# stop is inclusive\n",
        "\n",
        "ex1 = df.loc[:3, ['dates', 'tmax', 'tmin']]\n",
        "\n",
        "ex2 = df.iloc[:4, [0, 1, 2]]\n",
        "\n",
        "print(ex1)\n",
        "print()\n",
        "print(ex2)"
      ],
      "metadata": {
        "id": "gC9RsJo3xJ9N",
        "colab": {
          "base_uri": "https://localhost:8080/"
        },
        "outputId": "cca8c07b-6e17-492a-a546-dcdefb61a93e"
      },
      "execution_count": null,
      "outputs": [
        {
          "output_type": "stream",
          "name": "stdout",
          "text": [
            "      dates  tmax  tmin\n",
            "0  20130101  32.0  10.9\n",
            "1  20130102  24.1   3.0\n",
            "2  20130103  23.0  -0.0\n",
            "3  20130104  34.0   9.0\n",
            "\n",
            "      dates  tmin  tmax\n",
            "0  20130101  10.9  32.0\n",
            "1  20130102   3.0  24.1\n",
            "2  20130103  -0.0  23.0\n",
            "3  20130104   9.0  34.0\n"
          ]
        }
      ]
    },
    {
      "cell_type": "markdown",
      "source": [
        "## ## Display the rows 10, 100, 200, and 365 of the date and min temps columns using 2 different methods. Assign each to a different variable and use print( ) to display."
      ],
      "metadata": {
        "id": "1AB5oGWFxKlL"
      }
    },
    {
      "cell_type": "code",
      "source": [
        "# df.iloc[[row1, row2, ...], [col1, col2, ...]] for integer selection; \n",
        "# stop is exclusive due to zero indexing\n",
        "# df.loc[[row1, row2, ...], [col1, col2, ...]] for label selection; \n",
        "# stop is inclusive\n",
        "\n",
        "ex3 = df.iloc[[9, 99, 199, 364], [0, 1]]\n",
        "\n",
        "ex4 = df.loc[[9, 99, 199, 364], ['dates', 'tmin']]\n",
        "\n",
        "print(ex3)\n",
        "print()\n",
        "print(ex4)"
      ],
      "metadata": {
        "id": "ip1IgCTmycji",
        "colab": {
          "base_uri": "https://localhost:8080/"
        },
        "outputId": "92d2339d-a6c9-43ad-efa8-ad1d213c9619"
      },
      "execution_count": null,
      "outputs": [
        {
          "output_type": "stream",
          "name": "stdout",
          "text": [
            "        dates  tmin\n",
            "9    20130110  27.0\n",
            "99   20130410  42.1\n",
            "199  20130719  69.1\n",
            "364  20131231   1.2\n",
            "\n",
            "        dates  tmin\n",
            "9    20130110  27.0\n",
            "99   20130410  42.1\n",
            "199  20130719  69.1\n",
            "364  20131231   1.2\n"
          ]
        }
      ]
    },
    {
      "cell_type": "markdown",
      "source": [
        "## Select only the rows where the max temps are greater than 90. Assign this to a variable"
      ],
      "metadata": {
        "id": "rIs0ZfXPzRu1"
      }
    },
    {
      "cell_type": "code",
      "source": [
        "# df.loc[df[col] condition]\n",
        "\n",
        "t90 = df.loc[df['tmax'] > 90]\n",
        "\n",
        "print(t90)"
      ],
      "metadata": {
        "id": "0UiFhgIAzTL5",
        "colab": {
          "base_uri": "https://localhost:8080/"
        },
        "outputId": "9f68fe23-b700-4cde-b90a-cabc56e07f50"
      },
      "execution_count": null,
      "outputs": [
        {
          "output_type": "stream",
          "name": "stdout",
          "text": [
            "        dates  tmin  tmax\n",
            "150  20130531  57.9  91.9\n",
            "174  20130624  66.9  91.9\n",
            "175  20130625  69.1  91.0\n",
            "185  20130705  73.0  93.0\n",
            "195  20130715  70.0  91.0\n",
            "199  20130719  69.1  95.0\n",
            "200  20130720  70.0  91.0\n",
            "253  20130911  61.0  93.0\n"
          ]
        }
      ]
    },
    {
      "cell_type": "markdown",
      "source": [
        "## Using the dataframe (assigned to a variable) from the previous cell, get just the dates where the temperature was greater than 90.  Convert to a Python list."
      ],
      "metadata": {
        "id": "0x7IkNYJ1U9q"
      }
    },
    {
      "cell_type": "code",
      "source": [
        "# df[col]\n",
        "d90 = t90['dates']\n",
        "print(d90)"
      ],
      "metadata": {
        "id": "h3MlpDf-17kD",
        "colab": {
          "base_uri": "https://localhost:8080/"
        },
        "outputId": "ef8ce2a7-d39e-4921-8859-7e67050122ff"
      },
      "execution_count": null,
      "outputs": [
        {
          "output_type": "stream",
          "name": "stdout",
          "text": [
            "150    20130531\n",
            "174    20130624\n",
            "175    20130625\n",
            "185    20130705\n",
            "195    20130715\n",
            "199    20130719\n",
            "200    20130720\n",
            "253    20130911\n",
            "Name: dates, dtype: object\n"
          ]
        }
      ]
    },
    {
      "cell_type": "markdown",
      "source": [
        "## Convert to a Python list"
      ],
      "metadata": {
        "id": "eeMvbTq-2dG0"
      }
    },
    {
      "cell_type": "code",
      "source": [
        "# df.tolist()\n",
        "list90 = d90.tolist()\n",
        "print(list90)"
      ],
      "metadata": {
        "id": "iyJIV9P-2g0s",
        "colab": {
          "base_uri": "https://localhost:8080/"
        },
        "outputId": "41f1fd0e-d9db-465a-fde4-8adf18330b19"
      },
      "execution_count": null,
      "outputs": [
        {
          "output_type": "stream",
          "name": "stdout",
          "text": [
            "['20130531', '20130624', '20130625', '20130705', '20130715', '20130719', '20130720', '20130911']\n"
          ]
        }
      ]
    },
    {
      "cell_type": "markdown",
      "source": [
        "# Plot Weather Data\n",
        "\n",
        "Plot the days of the year where the minimum temperature greater than 40 degrees."
      ],
      "metadata": {
        "id": "Lv9Hj1LM23Qt"
      }
    },
    {
      "cell_type": "code",
      "source": [
        "t10 = df.loc[df['tmin'] < 10]\n",
        "dates = t10.loc[:, 'dates']\n",
        "temps = t10.loc[:, 'tmin']\n",
        "print(dates)\n",
        "print()\n",
        "print(t10)"
      ],
      "metadata": {
        "id": "ue9u_1xD3vKg",
        "colab": {
          "base_uri": "https://localhost:8080/"
        },
        "outputId": "7a99d956-1b16-4e4b-e3bf-123d300148b5"
      },
      "execution_count": null,
      "outputs": [
        {
          "output_type": "stream",
          "name": "stdout",
          "text": [
            "1      20130102\n",
            "2      20130103\n",
            "3      20130104\n",
            "17     20130118\n",
            "21     20130122\n",
            "22     20130123\n",
            "23     20130124\n",
            "24     20130125\n",
            "26     20130127\n",
            "27     20130128\n",
            "40     20130210\n",
            "41     20130211\n",
            "346    20131213\n",
            "347    20131214\n",
            "348    20131215\n",
            "349    20131216\n",
            "350    20131217\n",
            "358    20131225\n",
            "360    20131227\n",
            "363    20131230\n",
            "364    20131231\n",
            "Name: dates, dtype: object\n",
            "\n",
            "        dates  tmin  tmax\n",
            "1    20130102   3.0  24.1\n",
            "2    20130103  -0.0  23.0\n",
            "3    20130104   9.0  34.0\n",
            "17   20130118   9.0  19.9\n",
            "21   20130122   8.1  21.9\n",
            "22   20130123  -0.0   8.1\n",
            "23   20130124  -4.0  18.0\n",
            "24   20130125   1.0  23.0\n",
            "26   20130127   9.0  28.0\n",
            "27   20130128   9.0  27.0\n",
            "40   20130210   9.0  37.0\n",
            "41   20130211   9.0  41.0\n",
            "346  20131213   6.3  26.2\n",
            "347  20131214   3.2  14.2\n",
            "348  20131215   6.3  21.2\n",
            "349  20131216   6.3  25.2\n",
            "350  20131217  -5.8  14.2\n",
            "358  20131225   5.2  20.1\n",
            "360  20131227   7.2  32.0\n",
            "363  20131230   8.2  35.1\n",
            "364  20131231   1.2  13.1\n"
          ]
        }
      ]
    },
    {
      "cell_type": "code",
      "source": [
        "from matplotlib import pyplot as plt\n",
        "import numpy as np\n",
        "\n",
        "plt.scatter(dates, temps)\n",
        "plt.xticks(rotation = 75)\n",
        "\n",
        "plt.tight_layout()\n",
        "plt.show()"
      ],
      "metadata": {
        "colab": {
          "base_uri": "https://localhost:8080/",
          "height": 297
        },
        "id": "P5EbPGMmj89r",
        "outputId": "7d8be678-9620-47a6-db7b-787bd1eb0d76"
      },
      "execution_count": null,
      "outputs": [
        {
          "output_type": "display_data",
          "data": {
            "text/plain": [
              "<Figure size 432x288 with 1 Axes>"
            ],
            "image/png": "[encoded data removed]"
          },
          "metadata": {
            "needs_background": "light"
          }
        }
      ]
    }
  ]
}