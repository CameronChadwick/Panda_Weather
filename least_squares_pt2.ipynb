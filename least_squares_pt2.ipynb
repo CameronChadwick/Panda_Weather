{
  "nbformat": 4,
  "nbformat_minor": 0,
  "metadata": {
    "colab": {
      "provenance": [],
      "authorship_tag": "ABX9TyNBMto0sZIQzKVXmIZr745f",
      "include_colab_link": true
    },
    "kernelspec": {
      "name": "python3",
      "display_name": "Python 3"
    },
    "language_info": {
      "name": "python"
    }
  },
  "cells": [
    {
      "cell_type": "markdown",
      "metadata": {
        "id": "view-in-github",
        "colab_type": "text"
      },
      "source": [
        "<a href=\"https://colab.research.google.com/github/CameronChadwick/data_analysis/blob/main/least_squares_pt2.ipynb\" target=\"_parent\"><img src=\"https://colab.research.google.com/assets/colab-badge.svg\" alt=\"Open In Colab\"/></a>"
      ]
    },
    {
      "cell_type": "markdown",
      "source": [
        "# Imports"
      ],
      "metadata": {
        "id": "RR1Rc7Zy1Wo1"
      }
    },
    {
      "cell_type": "code",
      "execution_count": 2,
      "metadata": {
        "id": "BA545rxx1AKq"
      },
      "outputs": [],
      "source": [
        "import numpy as np\n",
        "from matplotlib import pyplot as plt"
      ]
    },
    {
      "cell_type": "markdown",
      "source": [
        "# Least Squares"
      ],
      "metadata": {
        "id": "aSxD7OG71ljv"
      }
    },
    {
      "cell_type": "code",
      "source": [
        "def regression_eqn(ind_array, dep_array, linear=True):\n",
        "  sum_x_fourth = (ind_array**4).sum()\n",
        "  sum_x_third = (ind_array**3).sum()\n",
        "  sum_x_second = (ind_array**2).sum()\n",
        "  sum_x = (ind_array).sum()\n",
        "  sum_x_y = (ind_array*dep_array).sum()\n",
        "  sum_y_x_sqrd = (ind_array**2*dep_array).sum()\n",
        "  sum_y = (dep_array).sum()\n",
        "  length = len(ind_array)\n",
        "  \n",
        "  if linear:\n",
        "    lft_matrix = [[sum_x_second, sum_x], [sum_x, length]]\n",
        "    rt_matrix = [sum_x_y, sum_y]\n",
        "  else:\n",
        "    lft_matrix = [[sum_x_fourth, sum_x_third, sum_x_second], [sum_x_third, sum_x_second, sum_x], [sum_x_second, sum_x, length]]\n",
        "    rt_matrix = [sum_y_x_sqrd, sum_x_y, sum_y]\n",
        "\n",
        "  solutions = np.linalg.solve(lft_matrix, rt_matrix)\n",
        "  return solutions\n",
        "\n",
        "x = np.array([-1.0, 0.0, 1.0, 2.0, 3.0, 4.0, 5.0, 6.0])\n",
        "y = np.array([10.0, 6.0, 2.0, 1.0, 0.0, 2.0, 4.0, 7.0])\n",
        "regression_eqn(x, y, False)"
      ],
      "metadata": {
        "colab": {
          "base_uri": "https://localhost:8080/"
        },
        "id": "51sSMEt51oDU",
        "outputId": "26f5a228-c8ed-4d51-c5c4-292405b5706b"
      },
      "execution_count": 3,
      "outputs": [
        {
          "output_type": "execute_result",
          "data": {
            "text/plain": [
              "array([ 0.66666667, -3.71428571,  5.61904762])"
            ]
          },
          "metadata": {},
          "execution_count": 3
        }
      ]
    },
    {
      "cell_type": "markdown",
      "source": [
        "## Graphing"
      ],
      "metadata": {
        "id": "RG6yyFlh7xD4"
      }
    },
    {
      "cell_type": "code",
      "source": [
        "def resids(ind_array, dep_array, linear=True):\n",
        "  \n",
        "  if linear:\n",
        "    a = regression_eqn(ind_array, dep_array)\n",
        "    y_array = a[0]*ind_array+a[1]\n",
        "  else:\n",
        "    a = regression_eqn(ind_array, dep_array, False)\n",
        "    y_array = a[0]*ind_array**2 + a[1]*ind_array + a[2]\n",
        "  residuals = y_array-dep_array\n",
        "  resid_mean = residuals.mean()\n",
        "  resid_dev = residuals.std()\n",
        "  return residuals, resid_mean, resid_dev\n",
        "\n",
        "\n",
        "\n",
        "resids(x, y, False)"
      ],
      "metadata": {
        "colab": {
          "base_uri": "https://localhost:8080/"
        },
        "id": "ereRTKP37zgA",
        "outputId": "7f018345-5480-46e3-81da-926efe22638f"
      },
      "execution_count": 8,
      "outputs": [
        {
          "output_type": "execute_result",
          "data": {
            "text/plain": [
              "(array([-3.55271368e-15, -3.80952381e-01,  5.71428571e-01, -1.42857143e-01,\n",
              "         4.76190476e-01, -5.71428571e-01, -2.85714286e-01,  3.33333333e-01]),\n",
              " -6.661338147750939e-16,\n",
              " 0.3933978962347216)"
            ]
          },
          "metadata": {},
          "execution_count": 8
        }
      ]
    },
    {
      "cell_type": "code",
      "source": [
        "def error_bounds(mean, std, n, y_int):\n",
        "  top_line = mean + (n * std)\n",
        "  bottom_line = mean - (n * std)\n",
        "  top_int = y_int + top_line\n",
        "  bottom_int = y_int + bottom_line\n",
        "  return bottom_int, top_int\n",
        "\n",
        "error_bounds(resids(x, y, False)[1], resids(x, y, False)[2], 2, regression_eqn(x, y, False)[2])"
      ],
      "metadata": {
        "colab": {
          "base_uri": "https://localhost:8080/"
        },
        "id": "ilEOsrg9Wdc2",
        "outputId": "25892bc3-f633-464b-d9ae-99d0ce7a1749"
      },
      "execution_count": 9,
      "outputs": [
        {
          "output_type": "execute_result",
          "data": {
            "text/plain": [
              "(4.832251826578174, 6.40584341151706)"
            ]
          },
          "metadata": {},
          "execution_count": 9
        }
      ]
    },
    {
      "cell_type": "code",
      "source": [
        "line = resids(x, y, False)[0]\n",
        "y_int = regression_eqn(x, y, False)[2]\n",
        "upper_y_int = error_bounds(resids(x, y, False)[1], resids(x, y, False)[2], 2, regression_eqn(x, y, False)[2])[1]\n",
        "lower_y_int = error_bounds(resids(x, y, False)[1], resids(x, y, False)[2], 2, regression_eqn(x, y, False)[2])[0]\n",
        "\n",
        "def lines_plot(ind_array, dep_array, n, Linear=True):\n",
        "  a = regression_eqn(ind_array, dep_array, False)\n",
        "  y_array = a[0]*ind_array**2 + a[1]*ind_array + a[2]\n",
        "\n",
        "  residuals = resids(ind_array, dep_array, False)\n",
        "  error = residuals[1]+n*residuals[2]\n",
        "  top_array = y_array+error\n",
        "  bottom_array = y_array-error\n",
        "\n",
        "  plt.scatter(ind_array, dep_array, c='green')\n",
        "  plt.plot(ind_array, y_array)\n",
        "  plt.plot(ind_array, top_array, c='red')\n",
        "  plt.plot(ind_array, bottom_array, c='red')\n",
        "\n",
        "lines_plot(x, y, 2, False)"
      ],
      "metadata": {
        "colab": {
          "base_uri": "https://localhost:8080/",
          "height": 265
        },
        "id": "7ZAckss4XcvF",
        "outputId": "2edc3de6-b85e-415b-b610-9edb79482f88"
      },
      "execution_count": 12,
      "outputs": [
        {
          "output_type": "display_data",
          "data": {
            "text/plain": [
              "<Figure size 432x288 with 1 Axes>"
            ],
            "image/png": "[encoded data removed]"
          },
          "metadata": {
            "needs_background": "light"
          }
        }
      ]
    }
  ]
}